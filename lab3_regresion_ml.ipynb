{
 "cells": [
  {
   "cell_type": "code",
   "execution_count": 25,
   "id": "ebd8f96c",
   "metadata": {},
   "outputs": [],
   "source": [
    "import imp\n",
    "import pandas as pd\n",
    "\n",
    "from joblib import dump, load\n",
    "\n",
    "import matplotlib.pyplot as plt\n",
    "import seaborn as sns\n",
    "\n",
    "from sklearn.linear_model import LinearRegression\n",
    "from sklearn.pipeline import Pipeline\n",
    "from sklearn.compose import ColumnTransformer\n",
    "#from sklearn.impute import SimpleImputer\n",
    "#from sklearn.preprocessing import PolynomialFeatures\n",
    "from sklearn.preprocessing import MinMaxScaler\n",
    "from sklearn.metrics import accuracy_score, confusion_matrix, ConfusionMatrixDisplay, precision_score, recall_score, f1_score, mean_absolute_error\n",
    "from sklearn.model_selection import train_test_split\n",
    "\n",
    "import scipy.stats as stats"
   ]
  },
  {
   "cell_type": "code",
   "execution_count": 26,
   "id": "201ad421",
   "metadata": {},
   "outputs": [],
   "source": [
    "pd.set_option('display.max_columns', None)\n",
    "pd.set_option('display.max_rows', 50)"
   ]
  },
  {
   "cell_type": "markdown",
   "id": "b56019fd",
   "metadata": {},
   "source": [
    "## 1. Carga de los datos"
   ]
  },
  {
   "cell_type": "code",
   "execution_count": 27,
   "id": "f2ad9bfa",
   "metadata": {},
   "outputs": [],
   "source": [
    "df = pd.read_csv('./data/university_admission_train.csv')"
   ]
  },
  {
   "cell_type": "code",
   "execution_count": 28,
   "id": "4561e55e",
   "metadata": {},
   "outputs": [
    {
     "data": {
      "text/plain": [
       "(1569, 10)"
      ]
     },
     "execution_count": 28,
     "metadata": {},
     "output_type": "execute_result"
    }
   ],
   "source": [
    "df.shape"
   ]
  },
  {
   "cell_type": "code",
   "execution_count": 29,
   "id": "222c2df1",
   "metadata": {},
   "outputs": [
    {
     "data": {
      "text/html": [
       "<div>\n",
       "<style scoped>\n",
       "    .dataframe tbody tr th:only-of-type {\n",
       "        vertical-align: middle;\n",
       "    }\n",
       "\n",
       "    .dataframe tbody tr th {\n",
       "        vertical-align: top;\n",
       "    }\n",
       "\n",
       "    .dataframe thead th {\n",
       "        text-align: right;\n",
       "    }\n",
       "</style>\n",
       "<table border=\"1\" class=\"dataframe\">\n",
       "  <thead>\n",
       "    <tr style=\"text-align: right;\">\n",
       "      <th></th>\n",
       "      <th>Unnamed: 0</th>\n",
       "      <th>Serial No.</th>\n",
       "      <th>GRE Score</th>\n",
       "      <th>TOEFL Score</th>\n",
       "      <th>University Rating</th>\n",
       "      <th>SOP</th>\n",
       "      <th>LOR</th>\n",
       "      <th>CGPA</th>\n",
       "      <th>Research</th>\n",
       "      <th>Admission Points</th>\n",
       "    </tr>\n",
       "  </thead>\n",
       "  <tbody>\n",
       "    <tr>\n",
       "      <th>0</th>\n",
       "      <td>0</td>\n",
       "      <td>479</td>\n",
       "      <td>327</td>\n",
       "      <td>113</td>\n",
       "      <td>4</td>\n",
       "      <td>4.00</td>\n",
       "      <td>2.77</td>\n",
       "      <td>8.88</td>\n",
       "      <td>1</td>\n",
       "      <td>84.47</td>\n",
       "    </tr>\n",
       "    <tr>\n",
       "      <th>1</th>\n",
       "      <td>1</td>\n",
       "      <td>446</td>\n",
       "      <td>301</td>\n",
       "      <td>92</td>\n",
       "      <td>1</td>\n",
       "      <td>1.85</td>\n",
       "      <td>1.50</td>\n",
       "      <td>7.71</td>\n",
       "      <td>0</td>\n",
       "      <td>45.08</td>\n",
       "    </tr>\n",
       "    <tr>\n",
       "      <th>2</th>\n",
       "      <td>2</td>\n",
       "      <td>336</td>\n",
       "      <td>297</td>\n",
       "      <td>100</td>\n",
       "      <td>1</td>\n",
       "      <td>2.41</td>\n",
       "      <td>1.59</td>\n",
       "      <td>7.89</td>\n",
       "      <td>0</td>\n",
       "      <td>47.42</td>\n",
       "    </tr>\n",
       "    <tr>\n",
       "      <th>3</th>\n",
       "      <td>3</td>\n",
       "      <td>20</td>\n",
       "      <td>303</td>\n",
       "      <td>98</td>\n",
       "      <td>3</td>\n",
       "      <td>3.50</td>\n",
       "      <td>3.00</td>\n",
       "      <td>8.50</td>\n",
       "      <td>0</td>\n",
       "      <td>62.00</td>\n",
       "    </tr>\n",
       "    <tr>\n",
       "      <th>4</th>\n",
       "      <td>4</td>\n",
       "      <td>432</td>\n",
       "      <td>320</td>\n",
       "      <td>94</td>\n",
       "      <td>2</td>\n",
       "      <td>1.38</td>\n",
       "      <td>3.50</td>\n",
       "      <td>8.78</td>\n",
       "      <td>1</td>\n",
       "      <td>73.00</td>\n",
       "    </tr>\n",
       "  </tbody>\n",
       "</table>\n",
       "</div>"
      ],
      "text/plain": [
       "   Unnamed: 0  Serial No.  GRE Score  TOEFL Score  University Rating   SOP  \\\n",
       "0           0         479        327          113                  4  4.00   \n",
       "1           1         446        301           92                  1  1.85   \n",
       "2           2         336        297          100                  1  2.41   \n",
       "3           3          20        303           98                  3  3.50   \n",
       "4           4         432        320           94                  2  1.38   \n",
       "\n",
       "   LOR   CGPA  Research  Admission Points  \n",
       "0  2.77  8.88         1             84.47  \n",
       "1  1.50  7.71         0             45.08  \n",
       "2  1.59  7.89         0             47.42  \n",
       "3  3.00  8.50         0             62.00  \n",
       "4  3.50  8.78         1             73.00  "
      ]
     },
     "execution_count": 29,
     "metadata": {},
     "output_type": "execute_result"
    }
   ],
   "source": [
    "df.head(5)"
   ]
  },
  {
   "cell_type": "markdown",
   "id": "5ef0e36d",
   "metadata": {},
   "source": [
    "### Eliminamos la columna Unnamed: 0"
   ]
  },
  {
   "cell_type": "code",
   "execution_count": 30,
   "id": "d00c4ed9",
   "metadata": {},
   "outputs": [],
   "source": [
    "df = df.drop(columns=['Unnamed: 0'])"
   ]
  },
  {
   "cell_type": "markdown",
   "id": "f2f6208c",
   "metadata": {},
   "source": [
    "# Eliminamos todas las filas que tengan algun valor nulo"
   ]
  },
  {
   "cell_type": "code",
   "execution_count": 31,
   "id": "f27b416c",
   "metadata": {},
   "outputs": [],
   "source": [
    "# Se eliminan las filas que tengan valores nulos en la columna Admission Points debido a que esa es la \n",
    "# variable objetivo y necesitamos predecirla. \n",
    "df = df.dropna()"
   ]
  },
  {
   "cell_type": "markdown",
   "id": "05f9028b",
   "metadata": {},
   "source": [
    "# Dividimos los datos en train y en test"
   ]
  },
  {
   "cell_type": "code",
   "execution_count": 32,
   "id": "112df841",
   "metadata": {},
   "outputs": [],
   "source": [
    "X_train, X_test, Y_train, Y_test = train_test_split(df, df[\"Admission Points\"], test_size=0.2, random_state=1)"
   ]
  },
  {
   "cell_type": "markdown",
   "id": "994e104e",
   "metadata": {},
   "source": [
    "## Entrenamiento para un primera modelo de regresion"
   ]
  },
  {
   "cell_type": "markdown",
   "id": "f7240971",
   "metadata": {},
   "source": [
    "## Creamos el ColumnTransformer\n",
    "Aqui se normalizamos entre 0 y 1 las columnas que vamos a utilizar y se eliminan las columnas que no necesitamos."
   ]
  },
  {
   "cell_type": "code",
   "execution_count": 33,
   "id": "1eb4b610",
   "metadata": {},
   "outputs": [],
   "source": [
    "ct = ColumnTransformer(\n",
    "    [(\"gre_preprocess\", MinMaxScaler(), [\"GRE Score\", \"University Rating\", \"SOP\", \"CGPA\", \"Research\"]),\n",
    "    (\"drop_columns\", \"drop\", ['Serial No.', \"TOEFL Score\", \"LOR \"])])"
   ]
  },
  {
   "cell_type": "markdown",
   "id": "23f3cfc2",
   "metadata": {},
   "source": [
    "### Creamos el PipeLine \n",
    "Creamos el Pipeline con el ColumnTransformer que creamos arriba y con un modelo de regresion lineal"
   ]
  },
  {
   "cell_type": "code",
   "execution_count": 34,
   "id": "c77fa511",
   "metadata": {},
   "outputs": [],
   "source": [
    "pipeline = Pipeline(\n",
    "    [\n",
    "        ('feature_selection', ct),\n",
    "        ('model', LinearRegression())\n",
    "    ]\n",
    ")"
   ]
  },
  {
   "cell_type": "code",
   "execution_count": 35,
   "id": "c1bd1fef",
   "metadata": {},
   "outputs": [],
   "source": [
    "pipeline = pipeline.fit(X_train, Y_train)"
   ]
  },
  {
   "cell_type": "markdown",
   "id": "284fbb35",
   "metadata": {},
   "source": [
    "## 4. Analisis de coeficientes"
   ]
  },
  {
   "cell_type": "code",
   "execution_count": 36,
   "id": "25d8cdf7",
   "metadata": {},
   "outputs": [],
   "source": [
    "preds_train = pipeline.predict(X_train)\n",
    "preds_test = pipeline.predict(X_test)"
   ]
  },
  {
   "cell_type": "code",
   "execution_count": 37,
   "id": "a5954c3d",
   "metadata": {},
   "outputs": [
    {
     "data": {
      "text/plain": [
       "0.70333362037035"
      ]
     },
     "execution_count": 37,
     "metadata": {},
     "output_type": "execute_result"
    }
   ],
   "source": [
    "pipeline.score(X_train, Y_train)"
   ]
  },
  {
   "cell_type": "code",
   "execution_count": 38,
   "id": "36e27709",
   "metadata": {},
   "outputs": [
    {
     "data": {
      "text/plain": [
       "0.7017157637189441"
      ]
     },
     "execution_count": 38,
     "metadata": {},
     "output_type": "execute_result"
    }
   ],
   "source": [
    "pipeline.score(X_test, Y_test)"
   ]
  },
  {
   "cell_type": "code",
   "execution_count": 39,
   "id": "85fd7696",
   "metadata": {},
   "outputs": [
    {
     "name": "stdout",
     "output_type": "stream",
     "text": [
      "MAE ERRROR TRAIN:  7.9474396268892535\n"
     ]
    }
   ],
   "source": [
    "mae_error_train = mean_absolute_error(Y_train, preds_train)\n",
    "print(\"MAE ERRROR TRAIN: \", mae_error_train)"
   ]
  },
  {
   "cell_type": "code",
   "execution_count": 40,
   "id": "d8e667e0",
   "metadata": {},
   "outputs": [
    {
     "name": "stdout",
     "output_type": "stream",
     "text": [
      "MAE ERRROR TEST:  7.3845448676606535\n"
     ]
    }
   ],
   "source": [
    "mae_error_test = mean_absolute_error(Y_test, preds_test)\n",
    "print(\"MAE ERRROR TEST: \", mae_error_test)"
   ]
  },
  {
   "cell_type": "markdown",
   "id": "fa85328d",
   "metadata": {},
   "source": [
    "## 5. Persistencia modelo"
   ]
  },
  {
   "cell_type": "code",
   "execution_count": 41,
   "id": "8e8eb02e",
   "metadata": {},
   "outputs": [],
   "source": [
    "filename = './assets/modelo.joblib'"
   ]
  },
  {
   "cell_type": "code",
   "execution_count": 42,
   "id": "8998edd2",
   "metadata": {},
   "outputs": [
    {
     "data": {
      "text/plain": [
       "['./assets/modelo.joblib']"
      ]
     },
     "execution_count": 42,
     "metadata": {},
     "output_type": "execute_result"
    }
   ],
   "source": [
    "dump(pipeline, filename) "
   ]
  },
  {
   "cell_type": "code",
   "execution_count": 43,
   "id": "d1389de4",
   "metadata": {},
   "outputs": [],
   "source": [
    "pipeline2 = load(filename)"
   ]
  },
  {
   "cell_type": "code",
   "execution_count": 44,
   "id": "d1b1f74c",
   "metadata": {},
   "outputs": [],
   "source": [
    "df['Admission Points'] = pipeline2.predict(df)"
   ]
  },
  {
   "cell_type": "code",
   "execution_count": 45,
   "id": "5aa6111d",
   "metadata": {},
   "outputs": [
    {
     "data": {
      "text/plain": [
       "0.7017157637189441"
      ]
     },
     "execution_count": 45,
     "metadata": {},
     "output_type": "execute_result"
    }
   ],
   "source": [
    "pipeline2.score(X_test, Y_test)"
   ]
  },
  {
   "cell_type": "code",
   "execution_count": 46,
   "id": "e88fff40",
   "metadata": {},
   "outputs": [],
   "source": [
    "df2 = pd.read_csv('./data/university_admission_test.csv')"
   ]
  },
  {
   "cell_type": "code",
   "execution_count": 47,
   "id": "1f12e640",
   "metadata": {},
   "outputs": [],
   "source": [
    "p = pipeline2.predict(df2)"
   ]
  },
  {
   "cell_type": "code",
   "execution_count": 48,
   "id": "3b32a9ce",
   "metadata": {},
   "outputs": [
    {
     "name": "stdout",
     "output_type": "stream",
     "text": [
      "[63.33358268 78.04644914 64.02273941 89.5704423  58.87201605 52.2810251\n",
      " 87.77233001 87.24044766 60.87427691 90.20514343 51.72726575 52.65564341\n",
      " 77.5251663  57.59500509 49.15911994 88.35632471 96.51865018 65.73870943\n",
      " 85.31281881 53.29419037 80.21146843 91.73279637 93.3450307  61.79144281\n",
      " 57.92763186 45.29338367 96.10263273 52.89155572 74.49138755 66.07403256\n",
      " 56.30660175 45.15712428 90.2543173  49.19230923 93.2405874  69.31681756\n",
      " 89.40062192 47.76290199 59.45926836 51.87191442 92.32303455 49.5812899\n",
      " 53.84729599 71.76713439 56.50177534 53.6969431  69.24011942 85.86672226\n",
      " 44.18831826 53.82538189 50.72431304 60.67929595 65.89766352 97.28319601\n",
      " 59.56585077 78.20674779 55.12908854 92.32303455 77.94886234 55.23428611\n",
      " 75.75181483 88.90572651 50.79845965 54.75494894 52.92288663 61.0122617\n",
      " 88.38700835 86.80127919 76.11115772 59.41639778 52.0120328  81.6396009\n",
      " 61.57009752 44.70846197 97.28319601 77.81659493 44.21786278 77.00634322\n",
      " 65.64632673 81.79536367 89.40062192 52.4463874  99.11105825 76.82242288\n",
      " 76.52495791 67.97576968 52.65564341 77.74797137 53.70756017 52.05119079\n",
      " 76.60055149 79.88955048 41.76807873 73.67599975 53.70756017 42.8697115\n",
      " 75.63275828 68.20048778 64.69542503 95.30230251 53.58941053 96.10263273\n",
      " 86.3056574  42.21581613 66.48973297 93.37837956 58.89818774 76.3565845\n",
      " 89.29617861 89.35781268 44.52720684 50.97817993 61.77028089 91.09734306\n",
      " 88.16958836 93.69783774 98.62731556 41.51878132 85.30063187 51.67940604\n",
      " 77.81659493 71.76713439 42.61720235 91.05121488 78.84525327 74.30347024\n",
      " 82.60688084 76.66059814 71.36858612 51.12304282 80.21146843 63.07047996\n",
      " 53.66278533 79.53102606 69.9128461  61.7887776  52.84636122 96.38967574\n",
      " 92.35588924 97.69523639 66.48973297 42.14603354 69.58235293 53.29419037\n",
      " 76.60055149 62.43985696 50.46109716 69.58235293 52.67511968 66.82054679\n",
      " 62.00357421 49.62741809 57.82656216 85.11764521 64.06949344 95.30230251\n",
      " 52.12366209 62.27686389 78.50369948 94.28602374 44.68217507 87.31579245\n",
      " 63.53276606 55.66390498 55.06549039 49.88107076 43.22437044 59.41639778\n",
      " 72.00448181 68.26104771 87.03336708 46.64946047 45.35250332 56.24789968\n",
      " 85.38831   ]\n"
     ]
    }
   ],
   "source": [
    "print(p)"
   ]
  }
 ],
 "metadata": {
  "kernelspec": {
   "display_name": "Python 3.8.5 64-bit",
   "language": "python",
   "name": "python3"
  },
  "language_info": {
   "codemirror_mode": {
    "name": "ipython",
    "version": 3
   },
   "file_extension": ".py",
   "mimetype": "text/x-python",
   "name": "python",
   "nbconvert_exporter": "python",
   "pygments_lexer": "ipython3",
   "version": "3.8.5"
  },
  "vscode": {
   "interpreter": {
    "hash": "082e9a3bcad0a290d0001e938aa60b99250c6c2ef33a923c00b70f9826caf4b7"
   }
  }
 },
 "nbformat": 4,
 "nbformat_minor": 5
}
